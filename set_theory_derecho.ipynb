{
 "cells": [
  {
   "cell_type": "code",
   "execution_count": 4,
   "metadata": {},
   "outputs": [
    {
     "name": "stdout",
     "output_type": "stream",
     "text": [
      "Collecting pandas\n",
      "  Downloading pandas-2.1.0-cp310-cp310-win_amd64.whl (11.1 MB)\n",
      "     ---------------------------------------- 11.1/11.1 MB 5.8 MB/s eta 0:00:00\n",
      "Requirement already satisfied: python-dateutil>=2.8.2 in c:\\users\\andre\\appdata\\roaming\\python\\python310\\site-packages (from pandas) (2.8.2)\n",
      "Collecting tzdata>=2022.1\n",
      "  Downloading tzdata-2023.3-py2.py3-none-any.whl (341 kB)\n",
      "     -------------------------------------- 341.8/341.8 kB 3.0 MB/s eta 0:00:00\n",
      "Requirement already satisfied: numpy>=1.22.4 in c:\\users\\andre\\appdata\\local\\programs\\python\\python310\\lib\\site-packages (from pandas) (1.25.2)\n",
      "Collecting pytz>=2020.1\n",
      "  Downloading pytz-2023.3-py2.py3-none-any.whl (502 kB)\n",
      "     -------------------------------------- 502.3/502.3 kB 4.5 MB/s eta 0:00:00\n",
      "Requirement already satisfied: six>=1.5 in c:\\users\\andre\\appdata\\local\\programs\\python\\python310\\lib\\site-packages (from python-dateutil>=2.8.2->pandas) (1.16.0)\n",
      "Installing collected packages: pytz, tzdata, pandas\n",
      "Successfully installed pandas-2.1.0 pytz-2023.3 tzdata-2023.3\n",
      "Note: you may need to restart the kernel to use updated packages.\n"
     ]
    },
    {
     "name": "stderr",
     "output_type": "stream",
     "text": [
      "\n",
      "[notice] A new release of pip available: 22.2.1 -> 23.2.1\n",
      "[notice] To update, run: python.exe -m pip install --upgrade pip\n"
     ]
    }
   ],
   "source": [
    "%pip install pandas"
   ]
  },
  {
   "cell_type": "code",
   "execution_count": 6,
   "metadata": {},
   "outputs": [],
   "source": [
    "from matplotlib_venn import venn2, venn2_circles, venn2_unweighted\n",
    "from matplotlib_venn import venn3, venn3_circles\n",
    "from matplotlib import pyplot as plt\n",
    "from pandas import pandas as pd\n",
    "%matplotlib inline\n",
    "\n",
    "def drawVenn2(A,B,labels = ('A', 'B')):\n",
    "    '''\n",
    "    listing elements in Venn diagram of two sets\n",
    "    '''\n",
    "    v2=venn2([A,B],set_labels = labels);\n",
    "    v2.get_label_by_id('01').set_text(', '.join(map(str,B-A)))\n",
    "    v2.get_label_by_id('10').set_text(', '.join(map(str,A-B)))\n",
    "    if A&B:\n",
    "        v2.get_label_by_id('11').set_text(', '.join(map(str,A&B)))\n",
    "\n",
    "def drawVenn3(A,B,C,labels = ('A', 'B', 'C')):\n",
    "    '''\n",
    "    listing elements in Venn diagram of three sets, A, B, C\n",
    "    '''\n",
    "    v3=venn3([A,B,C],set_labels = labels);\n",
    "    if A-B-C:\n",
    "        v3.get_label_by_id('100').set_text('\\n'.join(map(str,A-B-C)))\n",
    "        v3.get_patch_by_id('100').set_alpha(0.6)\n",
    "        v3.get_patch_by_id('100').set_facecolor('Yellow')\n",
    "    if A&B-C:\n",
    "        v3.get_label_by_id('110').set_text('\\n'.join(map(str,A&B-C)))\n",
    "        v3.get_patch_by_id('110').set_alpha(0.3)\n",
    "        v3.get_patch_by_id('110').set_facecolor('Red')\n",
    "    if B-C-A:\n",
    "        v3.get_label_by_id('010').set_text('\\n'.join(map(str,B-C-A)))\n",
    "        v3.get_patch_by_id('010').set_alpha(0.6)\n",
    "        v3.get_patch_by_id('010').set_facecolor('Magenta')\n",
    "    if A&C-B:\n",
    "        v3.get_label_by_id('101').set_text('\\n'.join(map(str,A&C-B)))\n",
    "        v3.get_patch_by_id('101').set_alpha(0.3)\n",
    "        v3.get_patch_by_id('101').set_facecolor('Green')\n",
    "    if A&B&C:\n",
    "        v3.get_label_by_id('111').set_text('\\n'.join(map(str,A&B&C)))\n",
    "        v3.get_patch_by_id('111').set_alpha(0.1)\n",
    "        v3.get_patch_by_id('111').set_facecolor('Black')\n",
    "    if B&C-A:\n",
    "        v3.get_label_by_id('011').set_text('\\n'.join(map(str,B&C-A)))\n",
    "        v3.get_patch_by_id('011').set_alpha(0.3)\n",
    "        v3.get_patch_by_id('011').set_facecolor('Blue')\n",
    "    if C-B-A:\n",
    "        v3.get_label_by_id('001').set_text('\\n'.join(map(str,C-B-A)))\n",
    "        v3.get_patch_by_id('001').set_alpha(0.6)\n",
    "        v3.get_patch_by_id('001').set_facecolor('Cyan')"
   ]
  },
  {
   "cell_type": "markdown",
   "metadata": {},
   "source": [
    "### Proving Identities\n",
    "\n",
    "1. $A \\cap B^c$: The intersection $\\cap$ represents everything in common between A and $B^c$, but the complement (c) symbol means that the second set is \"everything in U except elements in set B\". This means that the equation represents things that are both in A *and* not in B, which is identical to $A-B$.\n",
    "\n",
    "2. $B = (B \\cap A) \\cup (B \\cap A^{c})$: The interesection of B and A means everything in common with sets B and A. This is combined with the intersection of B and $A^c$, which is the intersection of B and everything not in A. To demonstrate:\n",
    "\n",
    "* $A = {1, 3, 4, 5, 8, 10, 11}$\n",
    "* $B = {3, 5, 7, 10, 12, 13}$\n",
    "* $B \\cap A = {3, 5, 10}$ - Everything that's in both B *and* A\n",
    "* $B \\cap A^c = {7, 12, 13}$ - Everything that's both in B and *not* in A\n",
    "* $(B \\cap A) + (B \\cap A^c) = {3, 5, 7, 10, 12, 13} = B$\n",
    "\n",
    "3. Identical to 1: $B \\cap A^c$ is \"everything both in B and not in A\", which is identical to $A-B$.\n",
    "\n",
    "4. $A \\cup B$ is all elements that are either in A or B. $A \\cup (B \\cap A^{c})$ means everything in B but not in A. Combining \"everything in A\" with \"everything in B but not in A\" gives us both sets A and B, which is identical to $A \\cup B$.\n",
    "\n",
    "5. $(\\textbf{U}_{i=1}^{\\infty} A_{i}^{c})^c$ and $\\cap_{i=1}^{\\infty}A_{i}$ are identical due to De Morgan's Law, which states that the complement of a union is equal to the intersection of the complements.\n",
    "\n",
    "6. This deals with cardinality; |A| represents the number of elements in A, |B| represents the number of elements in B, etc. The common elements they share is represented with $A \\cap B$, which can be represented in a Venn diagram as the \"in between\" part of the diagram. $|A| + |B| - |A \\cap B|$ is basically drawing a Venn diagram with circles A and B and removing the bit in the middle. Adding all of A and all of B together results in doubled numbers in the intersection, so subtracting the intersection removes duplicates and brings it back to a normal union of $A \\cup B$.\n",
    "\n"
   ]
  },
  {
   "cell_type": "markdown",
   "metadata": {},
   "source": [
    "### Sets and Subsets\n",
    "\n",
    "1. $A \\nsubseteq B$, because $3 \\land 5 \\notin $ B$ because 3 & 5 are odd numbers, not even. Thus, there are elements in set A that are not a part of B, making A not a subset of B.\n",
    "\n",
    "2. A = {0,1,2,3,4,5,6,7,8,9}. B = {2,4,6,8}, C = {1,3,5,7,9}, and D = {3,4,5}. The following conditions are known:\n",
    "\n",
    "* X cannot contain even numbers.\n",
    "* X should only contain elements in D, a.k.a. 3, 4, and 5. 4 is already excluded so it can only be 3 or 5.\n",
    "\n",
    "Therefore, set X = {3,5}."
   ]
  },
  {
   "cell_type": "markdown",
   "metadata": {},
   "source": [
    "### Set Operations\n",
    "\n",
    "#### Manual Solving\n",
    "\n",
    "1. $ C \\oplus D = 1,3,6,8 $\n",
    "2. $ A - B = 1, 2, 3 $\n",
    "3. $ B - A = 6, 7 $\n",
    "4. $ E \\oplus F = 1,2,4,5,6,8,9 $"
   ]
  },
  {
   "cell_type": "code",
   "execution_count": 2,
   "metadata": {},
   "outputs": [
    {
     "name": "stdout",
     "output_type": "stream",
     "text": [
      "{1, 3, 6, 8}\n",
      "{1, 2, 3}\n",
      "{6, 7}\n",
      "{1, 2, 4, 5, 6, 8, 9}\n"
     ]
    }
   ],
   "source": [
    "# Pythonic Solving\n",
    "\n",
    "# Table definitions\n",
    "U = {1,2,3,4,5}\n",
    "A = {1,2,3,4,5}\n",
    "B = {4,5,6,7}\n",
    "C = {5,6,7,8,9}\n",
    "D = {1,3,5,7,9}\n",
    "E = {2,4,6,8}\n",
    "F = {1,5,9}\n",
    "\n",
    "# Execution\n",
    "print(C^D)\n",
    "print(A-B)\n",
    "print(B-A)\n",
    "print(E^F)"
   ]
  },
  {
   "cell_type": "markdown",
   "metadata": {},
   "source": [
    "$|U|$=120\\\n",
    "$|N|$ (Newsweek) = 65\\\n",
    "$|T|$ (Times) = 45\\\n",
    "$|F|$ (Fortune) = 42\\\n",
    "$|N|\\cap|T| = 20$ \\\n",
    "$|N|\\cap|F| = 25$ \\\n",
    "$|T|\\cap|F| = 15$ \\\n",
    "$|N|\\cap|F|\\cap|T| = 8$"
   ]
  },
  {
   "cell_type": "code",
   "execution_count": 60,
   "metadata": {},
   "outputs": [
    {
     "name": "stdout",
     "output_type": "stream",
     "text": [
      "Exclusive Readers (N,F,T): 28 10 18\n",
      "Overlap: 60\n",
      "People who read at least one magazine: 100\n",
      "People who read at only one magazine: 56\n"
     ]
    },
    {
     "data": {
      "image/png": "[encoded data removed]",
      "text/plain": [
       "<Figure size 640x480 with 1 Axes>"
      ]
     },
     "metadata": {},
     "output_type": "display_data"
    }
   ],
   "source": [
    "# Defining numbers\n",
    "U = 120\n",
    "N = 65\n",
    "T = 45\n",
    "F = 42\n",
    "NT = 20\n",
    "NF = 25\n",
    "TF = 15\n",
    "NFT = 8\n",
    "\n",
    "# All readers\n",
    "allReaders = N + F + T\n",
    "# Intersections\n",
    "overlap = NT + NF + TF\n",
    "\n",
    "#Exclusive readers\n",
    "onlyN = N - NT - NF + NFT\n",
    "onlyF = F - NF - TF + NFT\n",
    "onlyT = T - NT - TF + NFT\n",
    "\n",
    "# People who read at least one magazine\n",
    "atLeastOne = (allReaders - overlap) + NFT\n",
    "# Exactly one magazine\n",
    "onlyOne = onlyN + onlyF + onlyT\n",
    "\n",
    "venn3(subsets = (N, T, NT, F, NF, TF, NFT), set_labels = ('Newsweek', 'Times', 'Fortune'))\n",
    "\n",
    "print(\"Exclusive Readers (N,F,T):\",onlyN,onlyF,onlyT)\n",
    "print(\"Overlap:\",overlap)\n",
    "print(\"People who read at least one magazine:\",atLeastOne)\n",
    "print(\"People who read at only one magazine:\",onlyOne)"
   ]
  },
  {
   "cell_type": "markdown",
   "metadata": {},
   "source": [
    "$ |U| = 25 $\\\n",
    "$ |A| = 15 $\\\n",
    "$ |R| = 12 $\\\n",
    "$ |W| = 11 $\\\n",
    "$ |A \\cup W| = 5 $\\\n",
    "$ |A \\cup R| = 9 $\\\n",
    "$ |R \\cup W| = 4 $\\\n",
    "$ |A \\cup R \\cup W| = 3 $"
   ]
  },
  {
   "cell_type": "code",
   "execution_count": 67,
   "metadata": {},
   "outputs": [
    {
     "name": "stdout",
     "output_type": "stream",
     "text": [
      "DEBUG 35 5 4 2 2 6 11 20 5\n",
      "Exclusive Options (A,R,W): 4 2 5\n",
      "Option combos excl. one (RW!A, AR!W, AW!R) 2 6 2\n",
      "Cars with at least one option: 20\n",
      "Cars with only one option: 11\n",
      "Cars with no options: 5\n"
     ]
    },
    {
     "data": {
      "image/png": "[encoded data removed]",
      "text/plain": [
       "<Figure size 640x480 with 1 Axes>"
      ]
     },
     "metadata": {},
     "output_type": "display_data"
    }
   ],
   "source": [
    "# Defining numbers\n",
    "U = 25\n",
    "A = 15\n",
    "R = 12\n",
    "W = 11\n",
    "AW = 5\n",
    "AR = 9\n",
    "RW = 4\n",
    "ARW = 3\n",
    "\n",
    "# Overlap\n",
    "all = (A + R+ W) - ARW\n",
    "overlap = AW + AR + RW\n",
    "\n",
    "# Cars with W only\n",
    "onlyW = W - AW - RW + ARW\n",
    "# Cars with A only\n",
    "onlyA = A - AR - AW + ARW\n",
    "# Cars with R only\n",
    "onlyR = R - AR - RW + ARW\n",
    "# Cars with R & W, not A\n",
    "onlyAW = AW - ARW\n",
    "# Cars with A & R, not W\n",
    "onlyAR = AR - ARW\n",
    "# Cars with A & W, not R\n",
    "onlyAW = AW - ARW\n",
    "# Cars with only 1 of the options\n",
    "onlyOne = onlyW + onlyA + onlyR\n",
    "# Cars with at least one option\n",
    "atLeastOne = all - overlap + ARW\n",
    "# Cars with no options\n",
    "noOptions = U - atLeastOne\n",
    "\n",
    "venn3(subsets = (A, R, AR, W, AW, RW, ARW), set_labels = ('Air-conditioning', 'Radio', 'Pwr. Windows'))\n",
    "\n",
    "print(\"DEBUG\",all,onlyW,onlyA,onlyR,onlyAW,onlyAR,onlyOne,atLeastOne,noOptions)\n",
    "print(\"Exclusive Options (A,R,W):\",onlyA,onlyR,onlyW)\n",
    "print(\"Option combos excl. one (RW!A, AR!W, AW!R)\",onlyAW,onlyAR,onlyAW)\n",
    "print(\"Cars with at least one option:\",atLeastOne)\n",
    "print(\"Cars with only one option:\",onlyOne)\n",
    "print(\"Cars with no options:\",noOptions)"
   ]
  }
 ],
 "metadata": {
  "kernelspec": {
   "display_name": "Python 3",
   "language": "python",
   "name": "python3"
  },
  "language_info": {
   "codemirror_mode": {
    "name": "ipython",
    "version": 3
   },
   "file_extension": ".py",
   "mimetype": "text/x-python",
   "name": "python",
   "nbconvert_exporter": "python",
   "pygments_lexer": "ipython3",
   "version": "3.10.6"
  },
  "orig_nbformat": 4
 },
 "nbformat": 4,
 "nbformat_minor": 2
}
